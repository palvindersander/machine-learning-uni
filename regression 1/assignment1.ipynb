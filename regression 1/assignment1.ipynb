{
 "cells": [
  {
   "cell_type": "code",
   "execution_count": 5,
   "metadata": {},
   "outputs": [
    {
     "data": {
      "text/plain": [
       "Text(0, 0.5, 't')"
      ]
     },
     "execution_count": 5,
     "metadata": {},
     "output_type": "execute_result"
    },
    {
     "data": {
      "image/png": "[encoded data removed]",
      "text/plain": [
       "<Figure size 432x288 with 1 Axes>"
      ]
     },
     "metadata": {
      "needs_background": "light"
     },
     "output_type": "display_data"
    }
   ],
   "source": [
    "# Data loader - DO NOT MODIFY\n",
    "# x and t are 2d arrays of shape (N,1) where N is the number of data points\n",
    "\n",
    "import pandas as pd\n",
    "import numpy as np\n",
    "import matplotlib.pyplot as plt\n",
    "\n",
    "df = pd.read_csv('assignment1.csv').to_numpy()\n",
    "x = df[:,1].reshape((-1,1))\n",
    "t = df[:,2].reshape((-1,1))\n",
    "\n",
    "plt.figure()\n",
    "plt.plot(x,t,'b.')\n",
    "plt.xlabel('x')\n",
    "plt.ylabel('t')"
   ]
  },
  {
   "cell_type": "markdown",
   "metadata": {},
   "source": [
    "# Question One:\n",
    "\n",
    "Use 3-fold cross-validation to select an optimal polynomial model using least squares estimation without regularization. In the notebook:\n",
    "\n",
    "1. \n",
    "    State the optimal degree of polynomial and print its parameters accurate to three decimal places.\n",
    "\n",
    "2. \n",
    "    Plot the fitted line and comment on whether it appears to represent the data well. Do you think it will generalise well to unseen data?\n",
    "\n",
    "3. \n",
    "    State clearly your estimates of t for the missing values of x"
   ]
  },
  {
   "cell_type": "code",
   "execution_count": 6,
   "metadata": {},
   "outputs": [
    {
     "name": "stdout",
     "output_type": "stream",
     "text": [
      "Order & Train RMS & Valid RMS \n",
      "0 & 1.244 & 1.635\n",
      "1 & 0.520 & 0.942\n",
      "2 & 0.412 & 0.740\n",
      "3 & 0.216 & 0.372\n",
      "4 & 0.159 & 1.168\n",
      "5 & 0.039 & 1.033\n",
      "6 & 0.000 & 0.889\n",
      "7 & 0.000 & 1.755\n"
     ]
    },
    {
     "data": {
      "image/png": "[encoded data removed]",
      "text/plain": [
       "<Figure size 432x288 with 1 Axes>"
      ]
     },
     "metadata": {
      "needs_background": "light"
     },
     "output_type": "display_data"
    }
   ],
   "source": [
    "# Points: 0  1  2  3  4  5  6  7  8  9 10 11 12 13\n",
    "# Split:  C  C  E  C  C  E  C  C  E  C  C  E  C  C\n",
    "\n",
    "\n",
    "# The combined data for cross-validation: 10pts\n",
    "xtrainval = np.concatenate((x.flatten()[0::3], x.flatten()[1::3]), axis=0)\n",
    "ttrainval = np.concatenate((t.flatten()[0::3], t.flatten()[1::3]), axis=0)\n",
    "\n",
    "# The test set: 4pts\n",
    "xtest = x[2::3].flatten()\n",
    "ttest = t[2::3].flatten()\n",
    "\n",
    "# First, combine the x and t data into a single array\n",
    "trainval = np.concatenate([np.atleast_2d(xtrainval).T,np.atleast_2d(ttrainval).T],axis=1)\n",
    "\n",
    "# Randomise the order\n",
    "trainval = np.random.permutation(trainval)\n",
    "\n",
    "# Split the dataset, remembering that we randomised the order of the data points. We'll split into K=3 folds.\n",
    "Folds = [ trainval[0:3], trainval[3:7], trainval[7:] ]\n",
    "\n",
    "# Max polynomial order set to 7 because the training \n",
    "M = [0,1,2,3,4,5,6,7]\n",
    "\n",
    "# Number of folds\n",
    "K = 3\n",
    "\n",
    "rmstrain = [] # Error on the training folds\n",
    "rmsvalid = [] # RMS error on the validation fold\n",
    "stdtrain = [] # Standard deviation over the training sets\n",
    "stdvalid = [] # Standard deviation over the validation sets\n",
    "\n",
    "for i in M:\n",
    "\n",
    "    # Record the performance on the folds\n",
    "    train_loss = []\n",
    "    validation_loss = []\n",
    "\n",
    "    for j in range(K):\n",
    "\n",
    "        # Select the one validation fold\n",
    "        Valid = Folds[j]\n",
    "\n",
    "        # Select and combine the K-1 training folds\n",
    "        Train = np.concatenate(Folds[:j]+Folds[j+1:])\n",
    "\n",
    "        # Compute the basis matrix for the training and validation folds\n",
    "        PhiTrain = np.array([pow(Train[:,0],j) for j in range(0,i+1)]).transpose()\n",
    "        PhiValid = np.array([pow(Valid[:,0],j) for j in range(0,i+1)]).transpose()\n",
    "\n",
    "        # Train the model\n",
    "        w = np.linalg.solve(np.matmul(PhiTrain.transpose(),PhiTrain), np.matmul(PhiTrain.transpose(),Train[:,1]))\n",
    "\n",
    "        # Compute the error on the training set\n",
    "        train_loss.append(np.sqrt(np.average(pow(Train[:,1]-np.matmul(PhiTrain,w),2))))\n",
    "\n",
    "        # Compute the error on the validation set\n",
    "        validation_loss.append(np.sqrt(np.average(pow(Valid[:,1]-np.matmul(PhiValid,w),2))))\n",
    "\n",
    "    # Record the average over the folds\n",
    "    rmstrain.append(np.average(train_loss))\n",
    "    rmsvalid.append(np.average(validation_loss))\n",
    "    stdtrain.append(np.std(train_loss))\n",
    "    stdvalid.append(np.std(validation_loss))    \n",
    "\n",
    "# Plot RMS Error for each Polynomial order\n",
    "plt.figure()\n",
    "plt.errorbar(M,rmstrain,fmt='b-',yerr=stdtrain,label=\"Train\")\n",
    "plt.errorbar(M,rmsvalid,fmt='y-',yerr=stdvalid,label=\"Validation\")\n",
    "plt.xlabel('M')\n",
    "plt.ylabel('RMS Error')\n",
    "plt.legend()\n",
    "plt.tight_layout()\n",
    "\n",
    "print(\"Order & Train RMS & Valid RMS \")\n",
    "for i in M:\n",
    "    print(f\"{i:d} & {rmstrain[i]:.3f} & {rmsvalid[i]:.3f}\")"
   ]
  },
  {
   "cell_type": "code",
   "execution_count": 7,
   "metadata": {},
   "outputs": [
    {
     "name": "stdout",
     "output_type": "stream",
     "text": [
      "Training loss = 0.24\n",
      "Test loss = 0.34\n",
      "\n",
      "Weight W0: 0.15163426198537774\n",
      "Weight W1: 0.21627136501189054\n",
      "Weight W2: -0.003743900264515951\n",
      "Weight W3: 2.0622113515072508e-05\n",
      "\n",
      "Day 1.0: 0.36418234884626743\n",
      "Day 6.0: 1.3189364190534023\n",
      "Day 11.0: 2.105055378198305\n",
      "Day 16.0: 2.7380058114172803\n",
      "Day 21.0: 3.233254303846631\n",
      "Day 26.0: 3.606267440622663\n",
      "Day 31.0: 3.87251180688168\n",
      "Day 36.0: 4.0474539877599875\n",
      "Day 41.0: 4.1465605683938875\n",
      "Day 46.0: 4.185298133919689\n",
      "Day 51.0: 4.17913326947369\n",
      "Day 56.0: 4.143532560192199\n",
      "Day 61.0: 4.09396259121152\n",
      "Day 66.0: 4.0458899476679555\n",
      "Day 71.0: 4.014781214697816\n",
      "Day 76.0: 4.016102977437395\n",
      "Day 81.0: 4.065321821023005\n",
      "Day 86.0: 4.177904330590952\n",
      "Day 91.0: 4.36931709127753\n",
      "Day 96.0: 4.65502668821906\n"
     ]
    },
    {
     "data": {
      "image/png": "[encoded data removed]",
      "text/plain": [
       "<Figure size 432x288 with 1 Axes>"
      ]
     },
     "metadata": {
      "needs_background": "light"
     },
     "output_type": "display_data"
    }
   ],
   "source": [
    "# Recompute the basis for the cubic model\n",
    "polyorder = 3\n",
    "PhiTrain = np.array([pow(xtrainval,j) for j in range(0,polyorder+1)]).transpose()\n",
    "PhiTest = np.array([pow(xtest,j) for j in range(0,polyorder+1)]).transpose()\n",
    "hiPhi = np.array([pow(x.flatten(),j) for j in range(0,polyorder+1)]).transpose()\n",
    "\n",
    "# Solve the normal equations using a standard solver\n",
    "w = np.linalg.solve(np.matmul(PhiTrain.transpose(),PhiTrain), np.matmul(PhiTrain.transpose(),ttrainval))\n",
    "\n",
    "# Compute the estimated values of the data points so we can compute the error\n",
    "ytrain = np.matmul(PhiTrain,w)\n",
    "ytest = np.matmul(PhiTest,w)\n",
    "\n",
    "# Compute the RMS error\n",
    "training_loss = np.sqrt(np.sum(pow(ttrainval-ytrain,2)/xtrainval.size))\n",
    "test_loss = np.sqrt(np.sum(pow(ttest-ytest,2)/xtest.size))\n",
    "print(f\"Training loss = {training_loss:.2f}\")\n",
    "print(f\"Test loss = {test_loss:.2f}\")\n",
    "\n",
    "# Plot mle, interpolated for missing days mle plot\n",
    "all_days = np.array(sorted([i for i in x.flatten()] + [31.0, 36.0, 41.0, 46.0, 51.0, 56.0]))\n",
    "all_days_hiPhi = np.array([pow(all_days,j) for j in range(0,polyorder+1)]).transpose()\n",
    "plotted_prediction = np.matmul(all_days_hiPhi,w)\n",
    "plt.figure()\n",
    "plt.plot(xtrainval,ttrainval,'b.')\n",
    "plt.plot(xtest,ttest,'r.')\n",
    "plt.plot(all_days, plotted_prediction, 'k--', label='interpolated plot')\n",
    "plt.plot(x,np.matmul(hiPhi,w), 'g--', label='plot')\n",
    "plt.xlabel('x')\n",
    "plt.ylabel('t')\n",
    "plt.tight_layout()\n",
    "plt.legend()\n",
    "\n",
    "# Print mle weights and f(x,w) values for each day including those which were missing\n",
    "print()\n",
    "for i, v in enumerate(w):\n",
    "    print(f\"Weight W{str(i)}: {v}\")\n",
    "print()\n",
    "for i, v in enumerate(plotted_prediction):\n",
    "    print(f\"Day {all_days[i]}: {str(plotted_prediction[i])}\")"
   ]
  },
  {
   "cell_type": "markdown",
   "metadata": {},
   "source": [
    "## Question One Answers:\n",
    "\n",
    "1. \n",
    "    Optimal degree of polynomial is $3$. We can see this is the case as it has the lowest RMS validation score. \\\n",
    "    The weight parameters for this order are (to three decimal places):\n",
    "\n",
    "    * $w_{0} = 0.152$\n",
    "    * $w_{1} = 0.216$\n",
    "    * $w_{2} = -0.004$\n",
    "    * $w_{3} = 0.000$\n",
    "\n",
    "2. \n",
    "    I have plotted the fitted line above (interpolated for missing days also). I think it does generalise well to unseen data, we can see this quantatively with Training Loss $= 0.24$ and Test Loss $= 0.34$ which are both fairly close together.\n",
    "\n",
    "3. \n",
    "    Estimates, to three deciaml places, for missing days are:\n",
    "    \n",
    "    * Day 31:   $3.873$\n",
    "    * Day 36:   $4.048$\n",
    "    * Day 41:   $4.147$\n",
    "    * Day 46:   $4.185$\n",
    "    * Day 51:   $4.179$\n",
    "    * Day 56:   $4.144$"
   ]
  },
  {
   "cell_type": "markdown",
   "metadata": {},
   "source": [
    "# Question Two:\n",
    "Compute the posterior distribution of the model parameters for the optimal model with all data points included. Assume a Gaussian Prior with mean $m_0=0$ and covariance $S_0=α^{−1}I$. Set $α=2.0$.\n",
    "\n",
    "1. \n",
    "    Compare the value of the mean of the posterior with your maximum likelihoood estimate.\n",
    "\n",
    "2. \n",
    "    Comment on your finding.\n",
    "\n",
    "3. \n",
    "    Under what circumstances would the maximum likelihood estimate be identical to the mean of the posterior? Verify that this is the case."
   ]
  },
  {
   "cell_type": "code",
   "execution_count": 8,
   "metadata": {},
   "outputs": [
    {
     "name": "stdout",
     "output_type": "stream",
     "text": [
      "MLE:\n",
      "Weight W0: 0.15163426198537774\n",
      "Weight W1: 0.21627136501189054\n",
      "Weight W2: -0.003743900264515951\n",
      "Weight W3: 2.0622113515072508e-05\n",
      "\n",
      "Posterior Weights:\n",
      "Weight W0: 0.20446271087115492\n",
      "Weight W1: 0.20463302900764488\n",
      "Weight W2: -0.003490269404332375\n",
      "Weight W3: 1.9265856395356017e-05\n",
      "\n",
      "mN Values:\n",
      "Mean M0: 0.2397461013888602\n",
      "Mean M1: 0.1960538466234063\n",
      "Mean M2: -0.0032755673531949595\n",
      "Mean M3: 1.7947238698728734e-05\n"
     ]
    },
    {
     "data": {
      "image/png": "[encoded data removed]",
      "text/plain": [
       "<Figure size 432x288 with 1 Axes>"
      ]
     },
     "metadata": {
      "needs_background": "light"
     },
     "output_type": "display_data"
    }
   ],
   "source": [
    "# Constants\n",
    "wtrue = w\n",
    "i = 0\n",
    "N = 14\n",
    "Npts = 14\n",
    "sigma = 0.1\n",
    "alpha = 2.0\n",
    "beta = (1/sigma)**2\n",
    "\n",
    "# Compute prior values matrix\n",
    "m0 = np.zeros(wtrue.size)\n",
    "S0 = (1/alpha)*np.eye(wtrue.size)\n",
    "\n",
    "\n",
    "# Matrix of x^n values for 0 <= n <= 3\n",
    "Phi = np.concatenate((np.ones((Npts,1)),x,pow(x,2),pow(x,3)),axis=1)\n",
    "\n",
    "# Random samples (of all points)\n",
    "sample_indices = np.random.choice(np.linspace(0,Npts-1,Npts).astype(int),size=Npts,replace=False)\n",
    "xsample = np.atleast_2d(x[sample_indices[0:N]])\n",
    "tsample = np.atleast_2d(t.flatten()[sample_indices[0:N]]).T\n",
    "Phisample = np.atleast_2d(Phi[sample_indices[0:N]])\n",
    "\n",
    "# Compute parameters for posterior distribution\n",
    "invS0 = alpha*np.eye(wtrue.size)\n",
    "invSN = invS0 + beta*np.matmul(Phisample.T,Phisample)\n",
    "SN = np.linalg.inv(invSN)\n",
    "mN = np.squeeze(beta*np.matmul(SN,np.matmul(Phisample.T,tsample)))\n",
    "\n",
    "# Computer posterior distribution\n",
    "posterior = np.random.multivariate_normal(mean=mN,cov=SN)\n",
    "\n",
    "# Plot points, posterior plot, mle plot (not interpolated)\n",
    "mle = np.matmul(Phi,wtrue)\n",
    "means = np.matmul(Phi,mN)\n",
    "post = np.matmul(Phi,posterior)\n",
    "plt.figure()\n",
    "plt.plot(x,t,'b.', label='points')\n",
    "plt.plot(x,post,'g--', label='posterior')\n",
    "plt.plot(x,mle,'r--', label='mle')\n",
    "plt.plot(x,means,'c-.', label='mN')\n",
    "plt.legend()\n",
    "plt.xlabel('x')\n",
    "plt.ylabel('t')\n",
    "plt.axis('auto')\n",
    "plt.tight_layout()\n",
    "\n",
    "# Print mle, posterior and mN weights\n",
    "print(\"MLE:\")\n",
    "for i, v in enumerate(w):\n",
    "    print(f\"Weight W{str(i)}: {v}\")\n",
    "print()\n",
    "print(\"Posterior Weights:\")\n",
    "for i, v in enumerate(posterior):\n",
    "    print(f\"Weight W{str(i)}: {v}\")\n",
    "print()\n",
    "print(\"mN Values:\")\n",
    "for i, v in enumerate(mN):\n",
    "    print(f\"Mean M{str(i)}: {v}\")"
   ]
  },
  {
   "cell_type": "markdown",
   "metadata": {},
   "source": [
    "## Question Two Answers:\n",
    "\n",
    "1. \n",
    "    The weights for the maximim likelihood estimate were (to three decimal places): \n",
    "    \n",
    "    * $w_{0} = 0.152$\n",
    "    * $w_{1} = 0.216$\n",
    "    * $w_{2} = -0.004$\n",
    "    * $w_{3} = 0.000$\n",
    "    \n",
    "    The values for the mean of the posterior distribution ($m_{N}$) are (to three decimal places):\n",
    "    \n",
    "    * $m_{0} = 0.238$\n",
    "    * $m_{1} = 0.196$\n",
    "    * $m_{2} = -0.003$\n",
    "    * $m_{3} = 0.000$\n",
    "\n",
    "2. \n",
    "    As we can see the values are fairly similar and both produce plots (mle vs mN plot on the graph above)\n",
    "    <br/> *TODO: add more comparisons*\n",
    "3. \n",
    "    *TODO: find this case*"
   ]
  },
  {
   "cell_type": "markdown",
   "metadata": {},
   "source": [
    "# Question Three:\n",
    "\n",
    "1. \n",
    "    Plot the uncertainty in your model's predictions.\n",
    "2. \n",
    "    What happens if you try to predict $t$  in the future? Compute and plot the mean and uncertainty of the model prediction for up to day $120$. Comment on your result."
   ]
  },
  {
   "cell_type": "code",
   "execution_count": null,
   "metadata": {},
   "outputs": [],
   "source": []
  }
 ],
 "metadata": {
  "interpreter": {
   "hash": "93f50ca7711ed72fa6d7304d47e40f71f1006288599dd066201ee898b0837e21"
  },
  "kernelspec": {
   "display_name": "Python 3.9.0 64-bit",
   "name": "python3"
  },
  "language_info": {
   "codemirror_mode": {
    "name": "ipython",
    "version": 3
   },
   "file_extension": ".py",
   "mimetype": "text/x-python",
   "name": "python",
   "nbconvert_exporter": "python",
   "pygments_lexer": "ipython3",
   "version": "3.9.0"
  }
 },
 "nbformat": 4,
 "nbformat_minor": 5
}
