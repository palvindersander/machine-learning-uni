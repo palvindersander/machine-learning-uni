{
 "cells": [
  {
   "cell_type": "code",
   "execution_count": 45,
   "metadata": {},
   "outputs": [
    {
     "data": {
      "text/plain": [
       "Text(0, 0.5, 't')"
      ]
     },
     "execution_count": 45,
     "metadata": {},
     "output_type": "execute_result"
    },
    {
     "data": {
      "image/png": "[encoded data removed]",
      "text/plain": [
       "<Figure size 432x288 with 1 Axes>"
      ]
     },
     "metadata": {
      "needs_background": "light"
     },
     "output_type": "display_data"
    }
   ],
   "source": [
    "# Data loader - DO NOT MODIFY\n",
    "import pandas as pd\n",
    "import numpy as np\n",
    "import matplotlib.pyplot as plt\n",
    "df = pd.read_csv('assignment1.csv').to_numpy()\n",
    "x = df[:,1].reshape((-1,1))\n",
    "t = df[:,2].reshape((-1,1))\n",
    "# x and t are 2d arrays of shape (N,1) where N is the number of data points\n",
    "plt.figure()\n",
    "plt.plot(x,t,'b.')\n",
    "plt.xlabel('x')\n",
    "plt.ylabel('t')"
   ]
  },
  {
   "cell_type": "code",
   "execution_count": 46,
   "metadata": {},
   "outputs": [
    {
     "name": "stdout",
     "output_type": "stream",
     "text": [
      "[[ 1.]\n",
      " [ 6.]\n",
      " [11.]\n",
      " [16.]\n",
      " [21.]\n",
      " [26.]\n",
      " [61.]\n",
      " [66.]\n",
      " [71.]\n",
      " [76.]\n",
      " [81.]\n",
      " [86.]\n",
      " [91.]\n",
      " [96.]]\n",
      "[[ 6.]\n",
      " [16.]\n",
      " [26.]\n",
      " [66.]\n",
      " [76.]\n",
      " [86.]\n",
      " [96.]]\n",
      "[ 6. 16. 26. 66. 76. 86. 96.]\n",
      "[ 6. 16. 26. 66. 76. 86. 96.]\n"
     ]
    }
   ],
   "source": [
    "print(x)\n",
    "xtrainval = x[1::2]\n",
    "print(xtrainval)\n",
    "print(xtrainval.flatten())\n",
    "print(df[:,1][1::2])"
   ]
  },
  {
   "cell_type": "markdown",
   "metadata": {},
   "source": [
    "# Question One:\n",
    "Use 3-fold cross-validation to select an optimal polynomial model using least squares estimation without regularization. In the notebook:\n",
    "1. State the optimal degree of polynomial and print its parameters accurate to three decimal places.\n",
    "2. Plot the fitted line and comment on whether it appears to represent the data well. Do you think it will generalise well to unseen data?\n",
    "3. State clearly your estimates of t for the missing values of x"
   ]
  },
  {
   "cell_type": "code",
   "execution_count": 48,
   "metadata": {},
   "outputs": [
    {
     "name": "stdout",
     "output_type": "stream",
     "text": [
      "Order & Train & Valid \\\\\n",
      "0 & 0.869 & 0.943\n",
      "1 & 0.240 & 0.536\n",
      "2 & 0.200 & 0.510\n",
      "3 & 0.087 & 1.009\n",
      "4 & 0.000 & 4.587\n",
      "5 & 0.000 & 0.860\n",
      "6 & 0.000 & 1.344\n",
      "7 & 0.000 & 1.432\n"
     ]
    },
    {
     "data": {
      "image/png": "[encoded data removed]",
      "text/plain": [
       "<Figure size 432x288 with 1 Axes>"
      ]
     },
     "metadata": {
      "needs_background": "light"
     },
     "output_type": "display_data"
    }
   ],
   "source": [
    "# Construct the dataset\n",
    "\n",
    "'''\n",
    "xtrainval = np.concatenate((x[0:2], x[3:5], x[6:8], x[10:11], x[12:]), axis=0)\n",
    "ttrainval = np.concatenate((t[0:2], t[3:5], t[6:8], t[10:11], t[12:]), axis=0)\n",
    "xtest = np.concatenate((x[2:3], x[5:6], x[8:10], x[11:12]), axis=0)\n",
    "ttest = np.concatenate((t[2:3], t[5:6], t[8:10], t[11:12]), axis=0)\n",
    "Folds = [ trainval[0:3], trainval[3:6], trainval[6:] ]\n",
    "'''\n",
    "\n",
    "# The combined data for cross-validation: 7pts\n",
    "xtrainval = x[1::2].flatten()\n",
    "ttrainval = t[1::2].flatten()\n",
    "\n",
    "# The test set: 7pts\n",
    "xtest = x[0::2].flatten()\n",
    "ttest = t[0::2].flatten()\n",
    "\n",
    "# We now split the dataset into three random folds\n",
    "\n",
    "# First, combine the x and t data into a single array\n",
    "trainval = np.concatenate([np.atleast_2d(xtrainval).T,np.atleast_2d(ttrainval).T],axis=1)\n",
    "\n",
    "# Randomise the order\n",
    "trainval = np.random.permutation(trainval)\n",
    "\n",
    "# Split the dataset, remembering that we randomised the order of the data points. We'll split into K=3 folds.\n",
    "Folds = [ trainval[0:2], trainval[2:5], trainval[5:] ]\n",
    "\n",
    "M = [0,1,2,3,4,5,6,7] # Max polynomial order set to 7 because the training \n",
    "K = 3 # Number of folds\n",
    "rmstrain = [] # Error on the training folds\n",
    "rmsvalid = [] # RMS error on the validation fold\n",
    "stdtrain = [] # Standard deviation over the training sets\n",
    "stdvalid = [] # Standard deviation over the validation sets\n",
    "\n",
    "for i in M:\n",
    "    # Record the performance on the folds\n",
    "    train_loss = []\n",
    "    validation_loss = []\n",
    "    for j in range(K):\n",
    "        # Select the one validation fold\n",
    "        Valid = Folds[j]\n",
    "        # Select and combine the K-1 training folds\n",
    "        Train = np.concatenate(Folds[:j]+Folds[j+1:])\n",
    "        # Compute the basis matrix for the training and validation folds\n",
    "        PhiTrain = np.array([pow(Train[:,0],j) for j in range(0,i+1)]).transpose()\n",
    "        PhiValid = np.array([pow(Valid[:,0],j) for j in range(0,i+1)]).transpose()\n",
    "        # Train the model\n",
    "        w = np.linalg.solve(np.matmul(PhiTrain.transpose(),PhiTrain), np.matmul(PhiTrain.transpose(),Train[:,1]))\n",
    "        # Compute the error on the training set\n",
    "        train_loss.append(np.sqrt(np.average(pow(Train[:,1]-np.matmul(PhiTrain,w),2))))\n",
    "        # Compute the error on the validation set\n",
    "        validation_loss.append(np.sqrt(np.average(pow(Valid[:,1]-np.matmul(PhiValid,w),2))))\n",
    "    # Record the average over the folds\n",
    "    rmstrain.append(np.average(train_loss))\n",
    "    rmsvalid.append(np.average(validation_loss))\n",
    "    stdtrain.append(np.std(train_loss))\n",
    "    stdvalid.append(np.std(validation_loss))    \n",
    "    \n",
    "plt.figure()\n",
    "plt.errorbar(M,rmstrain,fmt='b-',yerr=stdtrain,label=\"Train\")\n",
    "plt.errorbar(M,rmsvalid,fmt='y-',yerr=stdvalid,label=\"Validation\")\n",
    "plt.xlabel('M')\n",
    "plt.ylabel('RMS Error')\n",
    "plt.tight_layout()\n",
    "plt.savefig('cross-validation-loss.png')\n",
    "\n",
    "print(\"Order & Train & Valid \\\\\\\\\")\n",
    "for i in M:\n",
    "    print(f\"{i:d} & {rmstrain[i]:.3f} & {rmsvalid[i]:.3f}\")"
   ]
  },
  {
   "cell_type": "code",
   "execution_count": 50,
   "metadata": {},
   "outputs": [
    {
     "name": "stdout",
     "output_type": "stream",
     "text": [
      "Training loss = 0.22\n",
      "Test loss = 0.48\n"
     ]
    },
    {
     "data": {
      "image/png": "[encoded data removed]",
      "text/plain": [
       "<Figure size 432x288 with 1 Axes>"
      ]
     },
     "metadata": {
      "needs_background": "light"
     },
     "output_type": "display_data"
    }
   ],
   "source": [
    "# Recompute the basis for the cubic model\n",
    "polyorder = 3\n",
    "PhiTrain = np.array([pow(xtrainval,j) for j in range(0,polyorder+1)]).transpose()\n",
    "PhiTest = np.array([pow(xtest,j) for j in range(0,polyorder+1)]).transpose()\n",
    "hiPhi = np.array([pow(x.flatten(),j) for j in range(0,polyorder+1)]).transpose()\n",
    "# Solve the normal equations using a standard solver\n",
    "w = np.linalg.solve(np.matmul(PhiTrain.transpose(),PhiTrain), np.matmul(PhiTrain.transpose(),ttrainval))\n",
    "# Compute the estimated values of the data points so we can compute the error\n",
    "ytrain = np.matmul(PhiTrain,w)\n",
    "ytest = np.matmul(PhiTest,w)\n",
    "# compute the RMS error\n",
    "training_loss = np.sqrt(np.sum(pow(ttrainval-ytrain,2)/xtrainval.size))\n",
    "test_loss = np.sqrt(np.sum(pow(ttest-ytest,2)/xtest.size))\n",
    "print(f\"Training loss = {training_loss:.2f}\")\n",
    "print(f\"Test loss = {test_loss:.2f}\")\n",
    "# Plot the data\n",
    "plt.figure()\n",
    "plt.plot(xtrainval,ttrainval,'b.')\n",
    "plt.plot(xtest,ttest,'r.')\n",
    "plt.plot(x.flatten(),np.matmul(hiPhi,w),'k--')\n",
    "plt.xlabel('x')\n",
    "plt.ylabel('t')\n",
    "plt.tight_layout()\n",
    "plt.savefig('cross-validation-result.png')"
   ]
  },
  {
   "cell_type": "markdown",
   "metadata": {},
   "source": [
    "# Question Two:\n",
    "Compute the posterior distribution of the model parameters for the optimal model with all data points included. Assume a Gaussian Prior with mean $m_0=0$ and covariance $S_0=α^{−1}I$. Set $α=2.0$.\n",
    "1. Compare the value of the mean of the posterior with your maximum likelihoood estimate.\n",
    "2. Comment on your finding.\n",
    "3. Under what circumstances would the maximum likelihood estimate be identical to the mean of the posterior? Verify that this is the case."
   ]
  }
 ],
 "metadata": {
  "interpreter": {
   "hash": "93f50ca7711ed72fa6d7304d47e40f71f1006288599dd066201ee898b0837e21"
  },
  "kernelspec": {
   "display_name": "Python 3.9.0 64-bit",
   "name": "python3"
  },
  "language_info": {
   "codemirror_mode": {
    "name": "ipython",
    "version": 3
   },
   "file_extension": ".py",
   "mimetype": "text/x-python",
   "name": "python",
   "nbconvert_exporter": "python",
   "pygments_lexer": "ipython3",
   "version": "3.9.0"
  }
 },
 "nbformat": 4,
 "nbformat_minor": 5
}
