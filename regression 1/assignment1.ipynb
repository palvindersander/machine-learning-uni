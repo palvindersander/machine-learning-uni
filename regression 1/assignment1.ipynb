{
 "cells": [
  {
   "cell_type": "code",
   "execution_count": 267,
   "metadata": {},
   "outputs": [
    {
     "data": {
      "text/plain": [
       "Text(0, 0.5, 't')"
      ]
     },
     "execution_count": 267,
     "metadata": {},
     "output_type": "execute_result"
    },
    {
     "data": {
      "image/png": "[encoded data removed]",
      "text/plain": [
       "<Figure size 432x288 with 1 Axes>"
      ]
     },
     "metadata": {
      "needs_background": "light"
     },
     "output_type": "display_data"
    }
   ],
   "source": [
    "# Data loader - DO NOT MODIFY\n",
    "# x and t are 2d arrays of shape (N,1) where N is the number of data points\n",
    "\n",
    "import pandas as pd\n",
    "import numpy as np\n",
    "import matplotlib.pyplot as plt\n",
    "\n",
    "df = pd.read_csv('assignment1.csv').to_numpy()\n",
    "x = df[:,1].reshape((-1,1))\n",
    "t = df[:,2].reshape((-1,1))\n",
    "\n",
    "plt.figure()\n",
    "plt.plot(x,t,'b.')\n",
    "plt.xlabel('x')\n",
    "plt.ylabel('t')"
   ]
  },
  {
   "cell_type": "markdown",
   "metadata": {},
   "source": [
    "# Question One:\n",
    "Use 3-fold cross-validation to select an optimal polynomial model using least squares estimation without regularization. In the notebook:\n",
    "1. State the optimal degree of polynomial and print its parameters accurate to three decimal places.\n",
    "2. Plot the fitted line and comment on whether it appears to represent the data well. Do you think it will generalise well to unseen data?\n",
    "3. State clearly your estimates of t for the missing values of x"
   ]
  },
  {
   "cell_type": "code",
   "execution_count": 268,
   "metadata": {},
   "outputs": [
    {
     "name": "stdout",
     "output_type": "stream",
     "text": [
      "Order & Train RMS & Valid RMS \n",
      "0 & 1.302 & 1.433\n",
      "1 & 0.579 & 0.614\n",
      "2 & 0.397 & 0.690\n",
      "3 & 0.178 & 0.494\n",
      "4 & 0.113 & 0.657\n",
      "5 & 0.064 & 0.879\n",
      "6 & 0.000 & 1.381\n",
      "7 & 0.000 & 1.946\n"
     ]
    },
    {
     "data": {
      "image/png": "[encoded data removed]",
      "text/plain": [
       "<Figure size 432x288 with 1 Axes>"
      ]
     },
     "metadata": {
      "needs_background": "light"
     },
     "output_type": "display_data"
    }
   ],
   "source": [
    "# Points: 0  1  2  3  4  5  6  7  8  9 10 11 12 13\n",
    "# Split:  C  C  E  C  C  E  C  C  E  C  C  E  C  C\n",
    "\n",
    "\n",
    "# The combined data for cross-validation: 10pts\n",
    "xtrainval = np.concatenate((x.flatten()[0::3], x.flatten()[1::3]), axis=0)\n",
    "ttrainval = np.concatenate((t.flatten()[0::3], t.flatten()[1::3]), axis=0)\n",
    "\n",
    "# The test set: 4pts\n",
    "xtest = x[2::3].flatten()\n",
    "ttest = t[2::3].flatten()\n",
    "\n",
    "# First, combine the x and t data into a single array\n",
    "trainval = np.concatenate([np.atleast_2d(xtrainval).T,np.atleast_2d(ttrainval).T],axis=1)\n",
    "\n",
    "# Randomise the order\n",
    "trainval = np.random.permutation(trainval)\n",
    "\n",
    "# Split the dataset, remembering that we randomised the order of the data points. We'll split into K=3 folds.\n",
    "Folds = [ trainval[0:3], trainval[3:7], trainval[7:] ]\n",
    "\n",
    "# Max polynomial order set to 7 because the training \n",
    "M = [0,1,2,3,4,5,6,7]\n",
    "\n",
    "# Number of folds\n",
    "K = 3\n",
    "\n",
    "rmstrain = [] # Error on the training folds\n",
    "rmsvalid = [] # RMS error on the validation fold\n",
    "stdtrain = [] # Standard deviation over the training sets\n",
    "stdvalid = [] # Standard deviation over the validation sets\n",
    "\n",
    "for i in M:\n",
    "\n",
    "    # Record the performance on the folds\n",
    "    train_loss = []\n",
    "    validation_loss = []\n",
    "\n",
    "    for j in range(K):\n",
    "\n",
    "        # Select the one validation fold\n",
    "        Valid = Folds[j]\n",
    "\n",
    "        # Select and combine the K-1 training folds\n",
    "        Train = np.concatenate(Folds[:j]+Folds[j+1:])\n",
    "\n",
    "        # Compute the basis matrix for the training and validation folds\n",
    "        PhiTrain = np.array([pow(Train[:,0],j) for j in range(0,i+1)]).transpose()\n",
    "        PhiValid = np.array([pow(Valid[:,0],j) for j in range(0,i+1)]).transpose()\n",
    "\n",
    "        # Train the model\n",
    "        w = np.linalg.solve(np.matmul(PhiTrain.transpose(),PhiTrain), np.matmul(PhiTrain.transpose(),Train[:,1]))\n",
    "\n",
    "        # Compute the error on the training set\n",
    "        train_loss.append(np.sqrt(np.average(pow(Train[:,1]-np.matmul(PhiTrain,w),2))))\n",
    "\n",
    "        # Compute the error on the validation set\n",
    "        validation_loss.append(np.sqrt(np.average(pow(Valid[:,1]-np.matmul(PhiValid,w),2))))\n",
    "\n",
    "    # Record the average over the folds\n",
    "    rmstrain.append(np.average(train_loss))\n",
    "    rmsvalid.append(np.average(validation_loss))\n",
    "    stdtrain.append(np.std(train_loss))\n",
    "    stdvalid.append(np.std(validation_loss))    \n",
    "\n",
    "# Plot RMS Error for each Polynomial order\n",
    "plt.figure()\n",
    "plt.errorbar(M,rmstrain,fmt='b-',yerr=stdtrain,label=\"Train\")\n",
    "plt.errorbar(M,rmsvalid,fmt='y-',yerr=stdvalid,label=\"Validation\")\n",
    "plt.xlabel('M')\n",
    "plt.ylabel('RMS Error')\n",
    "plt.tight_layout()\n",
    "plt.savefig('cross-validation-loss.png')\n",
    "\n",
    "print(\"Order & Train RMS & Valid RMS \")\n",
    "for i in M:\n",
    "    print(f\"{i:d} & {rmstrain[i]:.3f} & {rmsvalid[i]:.3f}\")"
   ]
  },
  {
   "cell_type": "code",
   "execution_count": 269,
   "metadata": {},
   "outputs": [
    {
     "name": "stdout",
     "output_type": "stream",
     "text": [
      "Training loss = 0.24\n",
      "Test loss = 0.34\n",
      "\n",
      "Weight W0: 0.15163426198537774\n",
      "Weight W1: 0.21627136501189054\n",
      "Weight W2: -0.003743900264515951\n",
      "Weight W3: 2.0622113515072508e-05\n",
      "\n",
      "Day 1.0: 0.36418234884626743\n",
      "Day 6.0: 1.3189364190534023\n",
      "Day 11.0: 2.105055378198305\n",
      "Day 16.0: 2.7380058114172803\n",
      "Day 21.0: 3.233254303846631\n",
      "Day 26.0: 3.606267440622663\n",
      "Day 31.0: 3.87251180688168\n",
      "Day 36.0: 4.0474539877599875\n",
      "Day 41.0: 4.1465605683938875\n",
      "Day 46.0: 4.185298133919689\n",
      "Day 51.0: 4.17913326947369\n",
      "Day 56.0: 4.143532560192199\n",
      "Day 61.0: 4.09396259121152\n",
      "Day 66.0: 4.0458899476679555\n",
      "Day 71.0: 4.014781214697816\n",
      "Day 76.0: 4.016102977437395\n",
      "Day 81.0: 4.065321821023005\n",
      "Day 86.0: 4.177904330590952\n",
      "Day 91.0: 4.36931709127753\n",
      "Day 96.0: 4.65502668821906\n"
     ]
    },
    {
     "data": {
      "image/png": "[encoded data removed]",
      "text/plain": [
       "<Figure size 432x288 with 1 Axes>"
      ]
     },
     "metadata": {
      "needs_background": "light"
     },
     "output_type": "display_data"
    }
   ],
   "source": [
    "# Recompute the basis for the cubic model\n",
    "polyorder = 3\n",
    "PhiTrain = np.array([pow(xtrainval,j) for j in range(0,polyorder+1)]).transpose()\n",
    "PhiTest = np.array([pow(xtest,j) for j in range(0,polyorder+1)]).transpose()\n",
    "hiPhi = np.array([pow(x.flatten(),j) for j in range(0,polyorder+1)]).transpose()\n",
    "\n",
    "# Solve the normal equations using a standard solver\n",
    "w = np.linalg.solve(np.matmul(PhiTrain.transpose(),PhiTrain), np.matmul(PhiTrain.transpose(),ttrainval))\n",
    "\n",
    "# Compute the estimated values of the data points so we can compute the error\n",
    "ytrain = np.matmul(PhiTrain,w)\n",
    "ytest = np.matmul(PhiTest,w)\n",
    "\n",
    "# Compute the RMS error\n",
    "training_loss = np.sqrt(np.sum(pow(ttrainval-ytrain,2)/xtrainval.size))\n",
    "test_loss = np.sqrt(np.sum(pow(ttest-ytest,2)/xtest.size))\n",
    "print(f\"Training loss = {training_loss:.2f}\")\n",
    "print(f\"Test loss = {test_loss:.2f}\")\n",
    "\n",
    "# Plot the data\n",
    "all_days = np.array(sorted([i for i in x.flatten()] + [31.0, 36.0, 41.0, 46.0, 51.0, 56.0]))\n",
    "all_days_hiPhi = np.array([pow(all_days,j) for j in range(0,polyorder+1)]).transpose()\n",
    "plotted_prediction = np.matmul(all_days_hiPhi,w)\n",
    "plt.figure()\n",
    "plt.plot(xtrainval,ttrainval,'b.')\n",
    "plt.plot(xtest,ttest,'r.')\n",
    "plt.plot(all_days, plotted_prediction, 'k--')\n",
    "plt.xlabel('x')\n",
    "plt.ylabel('t')\n",
    "plt.tight_layout()\n",
    "plt.savefig('cross-validation-result.png')\n",
    "print()\n",
    "for i, v in enumerate(w):\n",
    "    print(f\"Weight W{str(i)}: {v}\")\n",
    "print()\n",
    "for i, v in enumerate(plotted_prediction):\n",
    "    print(f\"Day {all_days[i]}: {str(plotted_prediction[i])}\")"
   ]
  },
  {
   "cell_type": "markdown",
   "metadata": {},
   "source": [
    "## Answers:\n",
    "\n",
    "1. Optimal degree of polynomial is $3$. We can see this is the case as it has the lowest RMS validation score. \\\n",
    "The weight parameters for this order, to three decimal places, are \n",
    "    * $w_{0} = 0.152$\n",
    "    * $w_{1} = 0.216$\n",
    "    * $w_{2} = -0.004$\n",
    "    * $w_{3} = 0.000$\n",
    "2. I have plotted the fitted line above (interpolated for missing days also). I think it does generalise well to unseen data, we can see this quantatively with Training Loss $= 0.24$ and Test Loss $= 0.34$ which are both fairly close together.\n",
    "3. Estimates, to three deciaml places, for missing days are:\n",
    "    * Day 31:   $3.873$\n",
    "    * Day 36:   $4.048$\n",
    "    * Day 41:   $4.147$\n",
    "    * Day 46:   $4.185$\n",
    "    * Day 51:   $4.179$\n",
    "    * Day 56:   $4.144$"
   ]
  },
  {
   "cell_type": "markdown",
   "metadata": {},
   "source": [
    "# Question Two:\n",
    "Compute the posterior distribution of the model parameters for the optimal model with all data points included. Assume a Gaussian Prior with mean $m_0=0$ and covariance $S_0=α^{−1}I$. Set $α=2.0$.\n",
    "1. Compare the value of the mean of the posterior with your maximum likelihoood estimate.\n",
    "2. Comment on your finding.\n",
    "3. Under what circumstances would the maximum likelihood estimate be identical to the mean of the posterior? Verify that this is the case."
   ]
  },
  {
   "cell_type": "code",
   "execution_count": null,
   "metadata": {},
   "outputs": [],
   "source": []
  }
 ],
 "metadata": {
  "interpreter": {
   "hash": "93f50ca7711ed72fa6d7304d47e40f71f1006288599dd066201ee898b0837e21"
  },
  "kernelspec": {
   "display_name": "Python 3.9.0 64-bit",
   "name": "python3"
  },
  "language_info": {
   "codemirror_mode": {
    "name": "ipython",
    "version": 3
   },
   "file_extension": ".py",
   "mimetype": "text/x-python",
   "name": "python",
   "nbconvert_exporter": "python",
   "pygments_lexer": "ipython3",
   "version": "3.9.0"
  }
 },
 "nbformat": 4,
 "nbformat_minor": 5
}
